{
 "cells": [
  {
   "cell_type": "code",
   "execution_count": null,
   "metadata": {},
   "outputs": [],
   "source": [
    "# Import the libraries required in the script\n",
    "\n",
    "import time\n",
    "import pandas as pd\n",
    "import matplotlib.pyplot as plt\n",
    "import numpy as np\n",
    "import shutil, os\n",
    "import keras\n",
    "from keras.models import Sequential, load_model\n",
    "from keras.callbacks import ModelCheckpoint\n",
    "from keras.callbacks import LearningRateScheduler, EarlyStopping\n",
    "from keras.layers import Dense\n",
    "import sys\n",
    "from sklearn.preprocessing import MinMaxScaler, StandardScaler\n",
    "from sklearn.model_selection import train_test_split\n",
    "from tensorflow.keras.optimizers import Adam\n",
    "from tensorflow.keras import callbacks\n",
    "from IPython.display import clear_output"
   ]
  },
  {
   "cell_type": "code",
   "execution_count": null,
   "metadata": {},
   "outputs": [],
   "source": [
    "# ---  dataset 1 --- #\n",
    "\n",
    "# Reading and Converting the output csv file into a dataframe object\n",
    "dataframeObject_1 = pd.DataFrame(pd.read_csv(\"dataset1.csv\"))"
   ]
  },
  {
   "cell_type": "code",
   "execution_count": null,
   "metadata": {},
   "outputs": [],
   "source": [
    "# dataset 1\n",
    "\n",
    "input_df_1 = dataframeObject_1.drop(['Simulation', 'A1', 'A2', 'B1', 'B2', 'kg', 'g', 'C1', 'Ap'], axis=1)\n",
    "\n",
    "output_df_1 = dataframeObject_1.drop(['Simulation', 'd10', 'd21', 'd32', 'd43', 'Concentration'], axis=1)\n",
    "\n",
    "input_array_1 = input_df_1.to_numpy()\n",
    "\n",
    "output_array_1 = output_df_1.to_numpy()\n",
    "\n",
    "input_array_1[:,[1,2,3,4]] = np.log10(input_array_1[:,[1,2,3,4]])\n",
    "\n",
    "output_array_1[:,[0,1,4,7]] = np.log10(output_array_1[:,[0,1,4,7]])\n",
    "\n",
    "# scaling dataset\n",
    "\n",
    "scaler_X_K = MinMaxScaler(feature_range=(0, 1), copy=True)\n",
    "x_training_scaled_1 = scaler_X_K.fit(input_array_1)\n",
    "x_training_scaled_1 = scaler_X_K.transform(input_array_1)\n",
    "\n",
    "scaler_y_K = MinMaxScaler(feature_range=(0, 1), copy=True)\n",
    "y_training_scaled_1 = scaler_y_K.fit(output_array_1)\n",
    "y_training_scaled_1 = scaler_y_K.transform(output_array_1)"
   ]
  },
  {
   "cell_type": "code",
   "execution_count": null,
   "metadata": {},
   "outputs": [],
   "source": [
    "model = load_model('best_model_K.hdf5')\n",
    "\n",
    "diameters = np.log10(np.array([[10**0.125, 30, 33.25, 37.51, 53.78], [10**0.25, 44.86, 49.04, 54.97, 66.68], [10**0.5, 36.2, 39.69, 44.74, 62.79], [10**0.75, 50.44, 55.14, 61.67, 70.91], [10**1, 60.31, 78.03, 91.6, 113.18]]))\n",
    "diameters_scaled = scaler_X_K.transform(diameters)\n",
    "kinetics_preditions = model.predict(diameters_scaled)\n",
    "kinetics_preditions = scaler_y_K.inverse_transform(kinetics_preditions)"
   ]
  }
 ],
 "metadata": {
  "kernelspec": {
   "display_name": "nome_ambiente",
   "language": "python",
   "name": "nome_ambiente"
  },
  "language_info": {
   "codemirror_mode": {
    "name": "ipython",
    "version": 3
   },
   "file_extension": ".py",
   "mimetype": "text/x-python",
   "name": "python",
   "nbconvert_exporter": "python",
   "pygments_lexer": "ipython3",
   "version": "3.11.5"
  },
  "orig_nbformat": 4,
  "vscode": {
   "interpreter": {
    "hash": "916dbcbb3f70747c44a77c7bcd40155683ae19c65e1c03b4aa3499c5328201f1"
   }
  }
 },
 "nbformat": 4,
 "nbformat_minor": 2
}
